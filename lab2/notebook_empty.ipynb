{
 "cells": [
  {
   "cell_type": "markdown",
   "metadata": {
    "pycharm": {
     "name": "#%% md\n"
    }
   },
   "source": [
    "# Klasyfikacja niezbalansowana, klasyfikatory zespołowe i wyjaśnialna AI"
   ]
  },
  {
   "cell_type": "markdown",
   "metadata": {
    "pycharm": {
     "name": "#%% md\n"
    }
   },
   "source": [
    "## Wykorzystanie Google Colab\n",
    "\n",
    "[![Open in Colab](https://colab.research.google.com/assets/colab-badge.svg)](https://colab.research.google.com/github/apohllo/sztuczna-inteligencja/blob/master/lab2/notebook_empty.ipynb)"
   ]
  },
  {
   "cell_type": "markdown",
   "metadata": {
    "pycharm": {
     "name": "#%% md\n"
    }
   },
   "source": [
    "## Ładowanie i eksploracja danych"
   ]
  },
  {
   "cell_type": "markdown",
   "metadata": {
    "pycharm": {
     "name": "#%% md\n"
    }
   },
   "source": [
    "Na tym laboratorium wykorzystamy zbiór danych [Polish companies bankruptcy](https://archive.ics.uci.edu/ml/datasets/Polish+companies+bankruptcy+data). Dotyczy on klasyfikacji, na podstawie danych z raportów finansowych, czy firma zbankrutuje w ciągu najbliższych kilku lat. Jest to zadanie szczególnie istotne dla banków, funduszy inwestycyjnych, firm ubezpieczeniowych itp., które z tego powodu zatrudniają licznie data scientistów. Zbiór zawiera 64 cechy, obliczone przez ekonomistów, którzy stworzyli ten zbiór, są one opisane na podlinkowanej wcześniej stronie. Dotyczą one zysków, posiadanych zasobów oraz długów firm.\n",
    "\n",
    "Ściągnij i rozpakuj dane (`Data Folder` -> `data.zip`) do katalogu `data` obok tego notebooka. Znajduje się tam 5 plików w formacie `.arff`, wykorzystywanym głównie przez oprogramowanie Weka. Jest to program do \"klikania\" ML w interfejsie graficznym, jakiś czas temu popularny wśród mniej technicznych data scientistów. W Pythonie ładuje się je za pomocą bibliotek SciPy i Pandas.\n",
    "\n",
    "W dalszej części laboratorium wykorzystamy plik `3year.arff`, w którym na podstawie finansowych firmy po 3 latach monitorowania chcemy przewidywać, czy firma zbankrutuje w ciągu najbliższych 3 lat. Jest to dość realistyczny horyzont czasowy."
   ]
  },
  {
   "cell_type": "code",
   "execution_count": 3,
   "metadata": {
    "pycharm": {
     "name": "#%%\n"
    },
    "ExecuteTime": {
     "end_time": "2024-01-18T23:11:46.560828792Z",
     "start_time": "2024-01-18T23:11:45.484517466Z"
    }
   },
   "outputs": [],
   "source": [
    "import os\n",
    "from scipy.io import arff\n",
    "import pandas as pd\n",
    "\n",
    "data = arff.loadarff(os.path.join(\"data\", \"3year.arff\"))\n",
    "X = pd.DataFrame(data[0])"
   ]
  },
  {
   "cell_type": "markdown",
   "metadata": {
    "pycharm": {
     "name": "#%% md\n"
    }
   },
   "source": [
    "Przyjrzyjmy się teraz naszym danym."
   ]
  },
  {
   "cell_type": "code",
   "execution_count": 4,
   "metadata": {
    "pycharm": {
     "name": "#%%\n"
    },
    "ExecuteTime": {
     "end_time": "2024-01-18T23:11:46.925112412Z",
     "start_time": "2024-01-18T23:11:46.849982996Z"
    }
   },
   "outputs": [
    {
     "data": {
      "text/plain": "      Attr1    Attr2    Attr3   Attr4    Attr5    Attr6     Attr7   Attr8  \\\n0  0.174190  0.41299  0.14371  1.3480 -28.9820  0.60383  0.219460  1.1225   \n1  0.146240  0.46038  0.28230  1.6294   2.5952  0.00000  0.171850  1.1721   \n2  0.000595  0.22612  0.48839  3.1599  84.8740  0.19114  0.004572  2.9881   \n3  0.024526  0.43236  0.27546  1.7833 -10.1050  0.56944  0.024526  1.3057   \n4  0.188290  0.41504  0.34231  1.9279 -58.2740  0.00000  0.233580  1.4094   \n\n    Attr9   Attr10  ...    Attr56    Attr57   Attr58    Attr59  Attr60  \\\n0  1.1961  0.46359  ...  0.163960  0.375740  0.83604  0.000007  9.7145   \n1  1.6018  0.53962  ...  0.027516  0.271000  0.90108  0.000000  5.9882   \n2  1.0077  0.67566  ...  0.007639  0.000881  0.99236  0.000000  6.7742   \n3  1.0509  0.56453  ...  0.048398  0.043445  0.95160  0.142980  4.2286   \n4  1.3393  0.58496  ...  0.176480  0.321880  0.82635  0.073039  2.5912   \n\n   Attr61   Attr62  Attr63  Attr64  class  \n0  6.2813   84.291  4.3303  4.0341   b'0'  \n1  4.1103  102.190  3.5716  5.9500   b'0'  \n2  3.7922   64.846  5.6287  4.4581   b'0'  \n3  5.0528   98.783  3.6950  3.4844   b'0'  \n4  7.0756  100.540  3.6303  4.6375   b'0'  \n\n[5 rows x 65 columns]",
      "text/html": "<div>\n<style scoped>\n    .dataframe tbody tr th:only-of-type {\n        vertical-align: middle;\n    }\n\n    .dataframe tbody tr th {\n        vertical-align: top;\n    }\n\n    .dataframe thead th {\n        text-align: right;\n    }\n</style>\n<table border=\"1\" class=\"dataframe\">\n  <thead>\n    <tr style=\"text-align: right;\">\n      <th></th>\n      <th>Attr1</th>\n      <th>Attr2</th>\n      <th>Attr3</th>\n      <th>Attr4</th>\n      <th>Attr5</th>\n      <th>Attr6</th>\n      <th>Attr7</th>\n      <th>Attr8</th>\n      <th>Attr9</th>\n      <th>Attr10</th>\n      <th>...</th>\n      <th>Attr56</th>\n      <th>Attr57</th>\n      <th>Attr58</th>\n      <th>Attr59</th>\n      <th>Attr60</th>\n      <th>Attr61</th>\n      <th>Attr62</th>\n      <th>Attr63</th>\n      <th>Attr64</th>\n      <th>class</th>\n    </tr>\n  </thead>\n  <tbody>\n    <tr>\n      <th>0</th>\n      <td>0.174190</td>\n      <td>0.41299</td>\n      <td>0.14371</td>\n      <td>1.3480</td>\n      <td>-28.9820</td>\n      <td>0.60383</td>\n      <td>0.219460</td>\n      <td>1.1225</td>\n      <td>1.1961</td>\n      <td>0.46359</td>\n      <td>...</td>\n      <td>0.163960</td>\n      <td>0.375740</td>\n      <td>0.83604</td>\n      <td>0.000007</td>\n      <td>9.7145</td>\n      <td>6.2813</td>\n      <td>84.291</td>\n      <td>4.3303</td>\n      <td>4.0341</td>\n      <td>b'0'</td>\n    </tr>\n    <tr>\n      <th>1</th>\n      <td>0.146240</td>\n      <td>0.46038</td>\n      <td>0.28230</td>\n      <td>1.6294</td>\n      <td>2.5952</td>\n      <td>0.00000</td>\n      <td>0.171850</td>\n      <td>1.1721</td>\n      <td>1.6018</td>\n      <td>0.53962</td>\n      <td>...</td>\n      <td>0.027516</td>\n      <td>0.271000</td>\n      <td>0.90108</td>\n      <td>0.000000</td>\n      <td>5.9882</td>\n      <td>4.1103</td>\n      <td>102.190</td>\n      <td>3.5716</td>\n      <td>5.9500</td>\n      <td>b'0'</td>\n    </tr>\n    <tr>\n      <th>2</th>\n      <td>0.000595</td>\n      <td>0.22612</td>\n      <td>0.48839</td>\n      <td>3.1599</td>\n      <td>84.8740</td>\n      <td>0.19114</td>\n      <td>0.004572</td>\n      <td>2.9881</td>\n      <td>1.0077</td>\n      <td>0.67566</td>\n      <td>...</td>\n      <td>0.007639</td>\n      <td>0.000881</td>\n      <td>0.99236</td>\n      <td>0.000000</td>\n      <td>6.7742</td>\n      <td>3.7922</td>\n      <td>64.846</td>\n      <td>5.6287</td>\n      <td>4.4581</td>\n      <td>b'0'</td>\n    </tr>\n    <tr>\n      <th>3</th>\n      <td>0.024526</td>\n      <td>0.43236</td>\n      <td>0.27546</td>\n      <td>1.7833</td>\n      <td>-10.1050</td>\n      <td>0.56944</td>\n      <td>0.024526</td>\n      <td>1.3057</td>\n      <td>1.0509</td>\n      <td>0.56453</td>\n      <td>...</td>\n      <td>0.048398</td>\n      <td>0.043445</td>\n      <td>0.95160</td>\n      <td>0.142980</td>\n      <td>4.2286</td>\n      <td>5.0528</td>\n      <td>98.783</td>\n      <td>3.6950</td>\n      <td>3.4844</td>\n      <td>b'0'</td>\n    </tr>\n    <tr>\n      <th>4</th>\n      <td>0.188290</td>\n      <td>0.41504</td>\n      <td>0.34231</td>\n      <td>1.9279</td>\n      <td>-58.2740</td>\n      <td>0.00000</td>\n      <td>0.233580</td>\n      <td>1.4094</td>\n      <td>1.3393</td>\n      <td>0.58496</td>\n      <td>...</td>\n      <td>0.176480</td>\n      <td>0.321880</td>\n      <td>0.82635</td>\n      <td>0.073039</td>\n      <td>2.5912</td>\n      <td>7.0756</td>\n      <td>100.540</td>\n      <td>3.6303</td>\n      <td>4.6375</td>\n      <td>b'0'</td>\n    </tr>\n  </tbody>\n</table>\n<p>5 rows × 65 columns</p>\n</div>"
     },
     "execution_count": 4,
     "metadata": {},
     "output_type": "execute_result"
    }
   ],
   "source": [
    "X.head()"
   ]
  },
  {
   "cell_type": "code",
   "execution_count": 5,
   "metadata": {
    "pycharm": {
     "name": "#%%\n"
    },
    "ExecuteTime": {
     "end_time": "2024-01-18T23:11:47.651667201Z",
     "start_time": "2024-01-18T23:11:47.384906787Z"
    }
   },
   "outputs": [
    {
     "data": {
      "text/plain": "Attr1     float64\nAttr2     float64\nAttr3     float64\nAttr4     float64\nAttr5     float64\n           ...   \nAttr61    float64\nAttr62    float64\nAttr63    float64\nAttr64    float64\nclass      object\nLength: 65, dtype: object"
     },
     "execution_count": 5,
     "metadata": {},
     "output_type": "execute_result"
    }
   ],
   "source": [
    "X.dtypes"
   ]
  },
  {
   "cell_type": "code",
   "execution_count": 6,
   "metadata": {
    "pycharm": {
     "name": "#%%\n"
    },
    "ExecuteTime": {
     "end_time": "2024-01-18T23:11:48.415953551Z",
     "start_time": "2024-01-18T23:11:48.122591913Z"
    }
   },
   "outputs": [
    {
     "data": {
      "text/plain": "              Attr1         Attr2         Attr3         Attr4         Attr5  \\\ncount  10503.000000  10503.000000  10503.000000  10485.000000  1.047800e+04   \nmean       0.052844      0.619911      0.095490      9.980499 -1.347662e+03   \nstd        0.647797      6.427041      6.420056    523.691951  1.185806e+05   \nmin      -17.692000      0.000000   -479.730000      0.002080 -1.190300e+07   \n25%        0.000686      0.253955      0.017461      1.040100 -5.207075e+01   \n50%        0.043034      0.464140      0.198560      1.605600  1.579300e+00   \n75%        0.123805      0.689330      0.419545      2.959500  5.608400e+01   \nmax       52.652000    480.730000     17.708000  53433.000000  6.854400e+05   \n\n              Attr6         Attr7         Attr8         Attr9        Attr10  \\\ncount  10503.000000  10503.000000  10489.000000  10500.000000  10503.000000   \nmean      -0.121159      0.065624     19.140113      1.819254      0.366093   \nstd        6.970625      0.651152    717.756745      7.581659      6.428603   \nmin     -508.120000    -17.692000     -2.081800     -1.215700   -479.730000   \n25%        0.000000      0.002118      0.431270      1.011275      0.297340   \n50%        0.000000      0.050945      1.111000      1.199000      0.515500   \n75%        0.072584      0.142275      2.857100      2.059100      0.725635   \nmax       45.533000     52.652000  53432.000000    740.440000     11.837000   \n\n       ...        Attr55        Attr56        Attr57        Attr58  \\\ncount  ...  1.050300e+04  10460.000000  10503.000000  10474.000000   \nmean   ...  6.638549e+03     -0.530082     -0.014817      3.848794   \nstd    ...  5.989196e+04     55.978608     18.684047    190.201224   \nmin    ... -7.513800e+05  -5691.700000  -1667.300000   -198.690000   \n25%    ...  1.462100e+01      0.005137      0.006796      0.875560   \n50%    ...  8.822900e+02      0.051765      0.106880      0.953060   \n75%    ...  4.348900e+03      0.130010      0.271310      0.995927   \nmax    ...  3.380500e+06    293.150000    552.640000  18118.000000   \n\n             Attr59        Attr60        Attr61        Attr62        Attr63  \\\ncount  10503.000000  9.911000e+03  10486.000000  1.046000e+04  10485.000000   \nmean       1.429319  5.713363e+02     13.935361  1.355370e+02      9.095149   \nstd       77.273270  3.715967e+04     83.704103  2.599116e+04     31.419096   \nmin     -172.070000  0.000000e+00     -6.590300 -2.336500e+06     -0.000156   \n25%        0.000000  5.533150e+00      4.486075  4.073700e+01      3.062800   \n50%        0.002976  9.952100e+00      6.677300  7.066400e+01      5.139200   \n75%        0.240320  2.093600e+01     10.587500  1.182200e+02      8.882600   \nmax     7617.300000  3.660200e+06   4470.400000  1.073500e+06   1974.500000   \n\n             Attr64  \ncount  10275.000000  \nmean      35.766800  \nstd      428.298315  \nmin       -0.000102  \n25%        2.023350  \n50%        4.059300  \n75%        9.682750  \nmax    21499.000000  \n\n[8 rows x 64 columns]",
      "text/html": "<div>\n<style scoped>\n    .dataframe tbody tr th:only-of-type {\n        vertical-align: middle;\n    }\n\n    .dataframe tbody tr th {\n        vertical-align: top;\n    }\n\n    .dataframe thead th {\n        text-align: right;\n    }\n</style>\n<table border=\"1\" class=\"dataframe\">\n  <thead>\n    <tr style=\"text-align: right;\">\n      <th></th>\n      <th>Attr1</th>\n      <th>Attr2</th>\n      <th>Attr3</th>\n      <th>Attr4</th>\n      <th>Attr5</th>\n      <th>Attr6</th>\n      <th>Attr7</th>\n      <th>Attr8</th>\n      <th>Attr9</th>\n      <th>Attr10</th>\n      <th>...</th>\n      <th>Attr55</th>\n      <th>Attr56</th>\n      <th>Attr57</th>\n      <th>Attr58</th>\n      <th>Attr59</th>\n      <th>Attr60</th>\n      <th>Attr61</th>\n      <th>Attr62</th>\n      <th>Attr63</th>\n      <th>Attr64</th>\n    </tr>\n  </thead>\n  <tbody>\n    <tr>\n      <th>count</th>\n      <td>10503.000000</td>\n      <td>10503.000000</td>\n      <td>10503.000000</td>\n      <td>10485.000000</td>\n      <td>1.047800e+04</td>\n      <td>10503.000000</td>\n      <td>10503.000000</td>\n      <td>10489.000000</td>\n      <td>10500.000000</td>\n      <td>10503.000000</td>\n      <td>...</td>\n      <td>1.050300e+04</td>\n      <td>10460.000000</td>\n      <td>10503.000000</td>\n      <td>10474.000000</td>\n      <td>10503.000000</td>\n      <td>9.911000e+03</td>\n      <td>10486.000000</td>\n      <td>1.046000e+04</td>\n      <td>10485.000000</td>\n      <td>10275.000000</td>\n    </tr>\n    <tr>\n      <th>mean</th>\n      <td>0.052844</td>\n      <td>0.619911</td>\n      <td>0.095490</td>\n      <td>9.980499</td>\n      <td>-1.347662e+03</td>\n      <td>-0.121159</td>\n      <td>0.065624</td>\n      <td>19.140113</td>\n      <td>1.819254</td>\n      <td>0.366093</td>\n      <td>...</td>\n      <td>6.638549e+03</td>\n      <td>-0.530082</td>\n      <td>-0.014817</td>\n      <td>3.848794</td>\n      <td>1.429319</td>\n      <td>5.713363e+02</td>\n      <td>13.935361</td>\n      <td>1.355370e+02</td>\n      <td>9.095149</td>\n      <td>35.766800</td>\n    </tr>\n    <tr>\n      <th>std</th>\n      <td>0.647797</td>\n      <td>6.427041</td>\n      <td>6.420056</td>\n      <td>523.691951</td>\n      <td>1.185806e+05</td>\n      <td>6.970625</td>\n      <td>0.651152</td>\n      <td>717.756745</td>\n      <td>7.581659</td>\n      <td>6.428603</td>\n      <td>...</td>\n      <td>5.989196e+04</td>\n      <td>55.978608</td>\n      <td>18.684047</td>\n      <td>190.201224</td>\n      <td>77.273270</td>\n      <td>3.715967e+04</td>\n      <td>83.704103</td>\n      <td>2.599116e+04</td>\n      <td>31.419096</td>\n      <td>428.298315</td>\n    </tr>\n    <tr>\n      <th>min</th>\n      <td>-17.692000</td>\n      <td>0.000000</td>\n      <td>-479.730000</td>\n      <td>0.002080</td>\n      <td>-1.190300e+07</td>\n      <td>-508.120000</td>\n      <td>-17.692000</td>\n      <td>-2.081800</td>\n      <td>-1.215700</td>\n      <td>-479.730000</td>\n      <td>...</td>\n      <td>-7.513800e+05</td>\n      <td>-5691.700000</td>\n      <td>-1667.300000</td>\n      <td>-198.690000</td>\n      <td>-172.070000</td>\n      <td>0.000000e+00</td>\n      <td>-6.590300</td>\n      <td>-2.336500e+06</td>\n      <td>-0.000156</td>\n      <td>-0.000102</td>\n    </tr>\n    <tr>\n      <th>25%</th>\n      <td>0.000686</td>\n      <td>0.253955</td>\n      <td>0.017461</td>\n      <td>1.040100</td>\n      <td>-5.207075e+01</td>\n      <td>0.000000</td>\n      <td>0.002118</td>\n      <td>0.431270</td>\n      <td>1.011275</td>\n      <td>0.297340</td>\n      <td>...</td>\n      <td>1.462100e+01</td>\n      <td>0.005137</td>\n      <td>0.006796</td>\n      <td>0.875560</td>\n      <td>0.000000</td>\n      <td>5.533150e+00</td>\n      <td>4.486075</td>\n      <td>4.073700e+01</td>\n      <td>3.062800</td>\n      <td>2.023350</td>\n    </tr>\n    <tr>\n      <th>50%</th>\n      <td>0.043034</td>\n      <td>0.464140</td>\n      <td>0.198560</td>\n      <td>1.605600</td>\n      <td>1.579300e+00</td>\n      <td>0.000000</td>\n      <td>0.050945</td>\n      <td>1.111000</td>\n      <td>1.199000</td>\n      <td>0.515500</td>\n      <td>...</td>\n      <td>8.822900e+02</td>\n      <td>0.051765</td>\n      <td>0.106880</td>\n      <td>0.953060</td>\n      <td>0.002976</td>\n      <td>9.952100e+00</td>\n      <td>6.677300</td>\n      <td>7.066400e+01</td>\n      <td>5.139200</td>\n      <td>4.059300</td>\n    </tr>\n    <tr>\n      <th>75%</th>\n      <td>0.123805</td>\n      <td>0.689330</td>\n      <td>0.419545</td>\n      <td>2.959500</td>\n      <td>5.608400e+01</td>\n      <td>0.072584</td>\n      <td>0.142275</td>\n      <td>2.857100</td>\n      <td>2.059100</td>\n      <td>0.725635</td>\n      <td>...</td>\n      <td>4.348900e+03</td>\n      <td>0.130010</td>\n      <td>0.271310</td>\n      <td>0.995927</td>\n      <td>0.240320</td>\n      <td>2.093600e+01</td>\n      <td>10.587500</td>\n      <td>1.182200e+02</td>\n      <td>8.882600</td>\n      <td>9.682750</td>\n    </tr>\n    <tr>\n      <th>max</th>\n      <td>52.652000</td>\n      <td>480.730000</td>\n      <td>17.708000</td>\n      <td>53433.000000</td>\n      <td>6.854400e+05</td>\n      <td>45.533000</td>\n      <td>52.652000</td>\n      <td>53432.000000</td>\n      <td>740.440000</td>\n      <td>11.837000</td>\n      <td>...</td>\n      <td>3.380500e+06</td>\n      <td>293.150000</td>\n      <td>552.640000</td>\n      <td>18118.000000</td>\n      <td>7617.300000</td>\n      <td>3.660200e+06</td>\n      <td>4470.400000</td>\n      <td>1.073500e+06</td>\n      <td>1974.500000</td>\n      <td>21499.000000</td>\n    </tr>\n  </tbody>\n</table>\n<p>8 rows × 64 columns</p>\n</div>"
     },
     "execution_count": 6,
     "metadata": {},
     "output_type": "execute_result"
    }
   ],
   "source": [
    "X.describe()"
   ]
  },
  {
   "cell_type": "markdown",
   "metadata": {
    "pycharm": {
     "name": "#%% md\n"
    }
   },
   "source": [
    "DataFrame zawiera 64 atrybuty numeryczne o zróżnicowanych rozkładach wartości oraz kolumnę `\"class\"` typu `bytes` z klasami 0 i 1.\n",
    "\n",
    "**Zadanie 1 (0.25 punktu)**\n",
    "\n",
    "Wyodrębnij klasy jako osobną zmienną typu `pd.Series`. Dokonaj konwersji typu na liczby całkowite."
   ]
  },
  {
   "cell_type": "code",
   "execution_count": 7,
   "metadata": {
    "pycharm": {
     "name": "#%%\n"
    },
    "ExecuteTime": {
     "end_time": "2024-01-18T23:11:50.835702996Z",
     "start_time": "2024-01-18T23:11:50.775829169Z"
    }
   },
   "outputs": [],
   "source": [
    "classes = X[\"class\"].astype(int)"
   ]
  },
  {
   "cell_type": "markdown",
   "metadata": {
    "pycharm": {
     "name": "#%% md\n"
    }
   },
   "source": [
    "Wiemy, że mamy do czynienia z klasyfikacją binarną - klasa 0 to brak bankructwa, klasa 1 to bankructwo w ciągu najbliższych 3 lat. Przyjrzyjmy się dokładniej naszym danym.\n",
    "\n",
    "**Zadanie 2 (0.5 punktu)**\n",
    "\n",
    "Narysuj wykres słupkowy (bar plot) częstotliwości obu klas w całym zbiorze. Upewnij się, że na osi X są numery lub nazwy klas, a oś Y ma wartości w procentach.\n",
    "\n",
    "Dodatkowo wypisz częstotliwość każdej klasy w procentach."
   ]
  },
  {
   "cell_type": "code",
   "execution_count": 12,
   "metadata": {
    "pycharm": {
     "name": "#%%\n"
    },
    "ExecuteTime": {
     "end_time": "2024-01-18T23:15:38.542642011Z",
     "start_time": "2024-01-18T23:15:38.306348787Z"
    }
   },
   "outputs": [
    {
     "name": "stdout",
     "output_type": "stream",
     "text": [
      "class\n",
      "0    95.287061\n",
      "1     4.712939\n",
      "Name: proportion, dtype: float64\n"
     ]
    },
    {
     "data": {
      "text/plain": "<Figure size 640x480 with 1 Axes>",
      "image/png": "[encoded data removed]"
     },
     "metadata": {},
     "output_type": "display_data"
    }
   ],
   "source": [
    "import matplotlib.pyplot as plt\n",
    "\n",
    "classes_counts = classes.value_counts(normalize=True) * 100\n",
    "classes_counts.plot(kind='bar')\n",
    "\n",
    "# Add labels and title\n",
    "plt.xlabel('Value')\n",
    "plt.ylabel('Percentage')\n",
    "plt.title('Percentage Frequencies of 0 and 1 Values')\n",
    "\n",
    "print(classes_counts)"
   ]
  },
  {
   "cell_type": "markdown",
   "metadata": {
    "pycharm": {
     "name": "#%% md\n"
    }
   },
   "source": [
    "Jak widać, klasa pozytywna jest w znacznej mniejszości, stanowi poniżej 5% zbioru. Taki problem nazywamy **klasyfikacją niezbalansowaną (imbalanced classification)**. Mamy tu **klasę dominującą (majority class)** oraz **klasę mniejszościową (minority class)**. Pechowo prawie zawsze interesuje nas ta druga, bo klasa większościowa jest trywialna. Przykładowo, 99% badanych jest zdrowych, a 1% ma niewykryty nowotwór - z oczywistych przyczyn chcemy wykrywać właśnie sytuację rzadką (problem diagnozy jako klasyfikacji jest zasadniczo zawsze niezbalansowany). W dalszej części laboratorium poznamy szereg konsekwencji tego zjawiska i metody na radzenie sobie z nim.\n",
    "\n",
    "Mamy sporo cech, wszystkie numeryczne. Ciekawe, czy mają wartości brakujące, a jeśli tak, to ile. Można to policzyć, ale wykres jest często czytelniejszy. Pomoże nam tu biblioteka `missingno`. Zaznacza ona w każdej kolumnie wartości brakujące przeciwnym kolorem."
   ]
  },
  {
   "cell_type": "code",
   "execution_count": 13,
   "metadata": {
    "pycharm": {
     "name": "#%%\n"
    },
    "ExecuteTime": {
     "end_time": "2024-01-18T23:22:04.330853505Z",
     "start_time": "2024-01-18T23:22:01.423879375Z"
    }
   },
   "outputs": [
    {
     "data": {
      "text/plain": "<AxesSubplot: >"
     },
     "execution_count": 13,
     "metadata": {},
     "output_type": "execute_result"
    },
    {
     "data": {
      "text/plain": "<Figure size 3000x600 with 2 Axes>",
      "image/png": "[encoded data removed]"
     },
     "metadata": {},
     "output_type": "display_data"
    }
   ],
   "source": [
    "import missingno as msno\n",
    "\n",
    "msno.matrix(X, labels=True, figsize=(30, 6))"
   ]
  },
  {
   "cell_type": "markdown",
   "metadata": {
    "pycharm": {
     "name": "#%% md\n"
    }
   },
   "source": [
    "Jak widać, cecha 37 ma bardzo dużo wartości brakujących, podczas gdy pozostałe cechy mają raczej niewielką ich liczbę. W takiej sytuacji najlepiej usunąć tę cechę, a pozostałe wartości brakujące **uzupełnić / imputować (impute)**. Typowo wykorzystuje się do tego wartość średnią lub medianę z danej kolumny. Ale uwaga - imputacji dokonuje się dopiero po podziale na zbiór treningowy i testowy! W przeciwnym wypadku wykorzystywalibyśmy dane ze zbioru testowego, co sztucznie zawyżyłoby wyniki. Jest to błąd metodologiczny - **wyciek danych (data leakage)**.\n",
    "\n",
    "**Zadanie 3 (0.25 punktu)**\n",
    "\n",
    "Usuń kolumnę `\"Attr37\"` ze zbioru danych."
   ]
  },
  {
   "cell_type": "code",
   "execution_count": 14,
   "metadata": {
    "pycharm": {
     "name": "#%%\n"
    },
    "ExecuteTime": {
     "end_time": "2024-01-18T23:24:24.780369807Z",
     "start_time": "2024-01-18T23:24:24.571814921Z"
    }
   },
   "outputs": [],
   "source": [
    "X = X.drop(columns=[\"Attr37\"])"
   ]
  },
  {
   "cell_type": "markdown",
   "metadata": {
    "pycharm": {
     "name": "#%% md\n"
    }
   },
   "source": [
    "Podział na zbiór treningowy i testowy to pierwszy moment, kiedy niezbalansowanie danych nam przeszkadza. Jeżeli zrobimy to czysto losowo, to są spore szanse, że w zbiorze testowym będzie tylko klasa negatywna - w końcu jest jej aż >95%. Dlatego wykorzystuje się **próbkowanie ze stratyfikacją (stratified sampling)**, dzięki któremu proporcje klas w zbiorze przed podziałem oraz obu zbiorach po podziale są takie same.\n",
    "\n",
    "**Zadanie 4 (0.5 punktu)**\n",
    "\n",
    "Dokonaj podziału zbioru na treningowy i testowy w proporcjach 80%-20%, ze stratyfikacją, wykorzystując funkcję `train_test_split` ze Scikit-learn'a. Przemieszaj zbiór (`shuffle`), ale pamiętaj o uwzględnieniu stałego `random_state`, aby wyniki były **reprodukowalne (reproducible)**. Zwróć uwagę, że w Scikit-learn'ie argument `stratify` oczekuje wektora klas."
   ]
  },
  {
   "cell_type": "code",
   "execution_count": 18,
   "metadata": {
    "pycharm": {
     "name": "#%%\n"
    },
    "ExecuteTime": {
     "end_time": "2024-01-18T23:57:57.593746297Z",
     "start_time": "2024-01-18T23:57:57.496354631Z"
    }
   },
   "outputs": [
    {
     "data": {
      "text/plain": "pandas.core.series.Series"
     },
     "execution_count": 18,
     "metadata": {},
     "output_type": "execute_result"
    }
   ],
   "source": [
    "from sklearn.model_selection import train_test_split\n",
    "\n",
    "y = X[\"class\"]\n",
    "\n",
    "X_train, X_test, y_train, y_test = train_test_split(X, y, test_size=0.2, stratify=y, shuffle=True, random_state=42)\n",
    "\n",
    "type(y_train)"
   ]
  },
  {
   "cell_type": "markdown",
   "metadata": {
    "pycharm": {
     "name": "#%% md\n"
    }
   },
   "source": [
    "**Zadanie 5 (0.5 punktu)**\n",
    "\n",
    "Uzupełnij wartości brakujące średnią wartością cechy. Użyj do tego klasy `SimpleImputer`. Pamiętaj, aby obliczyć wartość średnią na zbiorze treningowym (`.fit()`), a przetransformować później oba zbiory (`X_train`, `X_test`)."
   ]
  },
  {
   "cell_type": "code",
   "execution_count": null,
   "metadata": {
    "pycharm": {
     "is_executing": true,
     "name": "#%%\n"
    }
   },
   "outputs": [],
   "source": []
  },
  {
   "cell_type": "markdown",
   "metadata": {
    "pycharm": {
     "name": "#%% md\n"
    }
   },
   "source": [
    "## Prosta klasyfikacja"
   ]
  },
  {
   "cell_type": "markdown",
   "metadata": {
    "pycharm": {
     "name": "#%% md\n"
    }
   },
   "source": [
    "Zanim przejdzie się do modeli bardziej złożonych, trzeba najpierw wypróbować coś prostego, żeby mieć punkt odniesienia. Tworzy się dlatego **modele bazowe (baselines)**.\n",
    "\n",
    "W naszym przypadku będzie to **drzewo decyzyjne (decision tree)**. Jest to drzewo binarne z decyzjami if-else, prowadzącymi do klasyfikacji danego przykładu w liściu. Każdy podział w drzewie to pytanie postaci \"Czy wartość cechy X jest większa lub równa Y?\". Trening takiego drzewa to prosty algorytm zachłanny, bardzo przypomina budowę zwykłego drzewa binarnego. W każdym węźle wykonujemy:\n",
    "1. Sprawdź po kolei wszystkie możliwe punkty podziału, czyli każdą (unikalną) wartość każdej cechy, po kolei.\n",
    "2. Dla każdego przypadku podziel zbiór na 2 kawałki: niespełniający warunku (lewe dziecko) i spełniający warunek (prawe dziecko).\n",
    "3. Oblicz jakość podziału według pewnej wybranej funkcji jakości. Im lepiej nasz if/else rozdziela klasy od siebie (im \"czystsze\" są węzły-dzieci), tym wyższa jakość. Innymi słowy, chcemy, żeby do jednego dziecka poszła jedna klasa, a do drugiego druga.\n",
    "4. Wybierz podział o najwyższej jakości.\n",
    "\n",
    "Taki algorytm wykonuje się rekurencyjnie, aż otrzymamy węzeł czysty (pure leaf), czyli taki, w którym są przykłady z tylko jednej klasy. Typowo wykorzystywaną funkcją jakości (kryterium podziału) jest entropia Shannona - im niższa entropia, tym bardziej jednolite są klasy w węźle (czyli wybieramy podział o najniższej entropii).\n",
    "\n",
    "Powyższe wytłumaczenie algorytmu jest oczywiście nieformalne i dość skrótowe. Doskonałe tłumaczenie, z interaktywnymi wizualizacjami, dostępne jest [tutaj](https://mlu-explain.github.io/decision-tree/). W formie filmów - [tutaj](https://www.youtube.com/watch?v=ZVR2Way4nwQ) oraz [tutaj](https://www.youtube.com/watch?v=_L39rN6gz7Y). Dla drzew do regresji - [ten film](https://www.youtube.com/watch?v=g9c66TUylZ4).\n",
    "\n",
    "<img src = https://miro.medium.com/max/1838/1*WyTsLwcAXivFCgNtF0OPqA.png width = \"642\" height = \"451\" >\n",
    "\n",
    "Warto zauważyć, że taka konstrukcja prowadzi zawsze do overfittingu. Otrzymanie liści czystych oznacza, że mamy 100% dokładności na zbiorze treningowym, czyli perfekcyjnie przeuczony klasyfikator. W związku z tym nasze predykcje mają bardzo niski bias, ale bardzo dużą wariancję. Pomimo tego drzewa potrafią dać bardzo przyzwoite wyniki, a w celu ich poprawy można je regularyzować, aby mieć mniej \"rozrośnięte\" drzewo. [Film dla zainteresowanych](https://www.youtube.com/watch?v=D0efHEJsfHo).\n",
    "\n",
    "W tym wypadku AI to naprawdę tylko zbiór if'ów ;)\n",
    "\n",
    "**Zadanie 6 (0.5 punktu)**\n",
    "\n",
    "Wytrenuj klasyfikator drzewa decyzyjnego (klasa `DecisionTreeClassifier`). Użyj entropii jako kryterium podziału. Pamiętaj o użyciu stałego `random_state`."
   ]
  },
  {
   "cell_type": "code",
   "execution_count": null,
   "metadata": {
    "pycharm": {
     "name": "#%%\n"
    }
   },
   "outputs": [],
   "source": []
  },
  {
   "cell_type": "markdown",
   "metadata": {
    "pycharm": {
     "name": "#%% md\n"
    }
   },
   "source": [
    "Teraz musimy sprawdzić jakość naszego baseline'u. Tu kolejny problem z klasyfikacją niezbalansowaną - zwykła celność (accuracy) na pewno nie zadziała! Typowo wykorzystuje się AUC, nazywane też AUROC (Area Under Receiver Operating Characteristic), bo metryka ta \"widzi\" i uwzględnia niezbalansowanie klas. Wymaga ona przekazania prawdopodobieństwa klasy pozytywnej, a nie tylko binarnej decyzji.\n",
    "\n",
    "Bardzo dobre i bardziej szczegółowe wytłumaczenie, z interktywnymi wizualizacjami, można znaleć [tutaj](https://mlu-explain.github.io/roc-auc/). Dla preferujących filmy - [tutaj](https://www.youtube.com/watch?v=4jRBRDbJemM).\n",
    "\n",
    "Użyj do tego metody `.predict_proba()`, która w kolejnych kolumnach zwraca prawdopodobieństwa poszczególnych klas (nas interesuje kolumna 1).\n",
    "\n",
    "**Zadanie 7 (0.5 punktu)**\n",
    "\n",
    "Oblicz i wypisz AUROC na zbiorze testowym dla drzewa decyzyjnego (funkcja `roc_auc_score`). Skomentuj wynik - czy jest to twoim zdaniem dużo czy mało? Weź pod uwagę możliwy zakres wartości tej metryki."
   ]
  },
  {
   "cell_type": "code",
   "execution_count": null,
   "metadata": {
    "pycharm": {
     "is_executing": true,
     "name": "#%%\n"
    }
   },
   "outputs": [],
   "source": []
  },
  {
   "cell_type": "markdown",
   "metadata": {
    "pycharm": {
     "name": "#%% md\n"
    }
   },
   "source": [
    "// skomentuj tutaj"
   ]
  },
  {
   "cell_type": "markdown",
   "metadata": {
    "pycharm": {
     "name": "#%% md\n"
    }
   },
   "source": [
    "## Uczenie zespołowe, bagging, lasy losowe"
   ]
  },
  {
   "cell_type": "markdown",
   "metadata": {
    "pycharm": {
     "name": "#%% md\n"
    }
   },
   "source": [
    "Bardzo często wiele klasyfikatorów działających razem daje lepsze wyniki niż pojedynczy klasyfikator. Takie podejście nazywa się **uczeniem zespołowym (ensemble learning)**. Istnieje wiele różnych podejść do tworzenia takich klasyfikatorów złożonych (ensemble classifiers).\n",
    "\n",
    "Podstawową metodą jest **bagging**:\n",
    "1. Wylosuj N (np. 100, 500, ...) próbek boostrapowych (boostrap sample) ze zbioru treningowego. Próbka boostrapowa to po prostu losowanie ze zwracaniem, gdzie dla wejściowego zbioru z M wierszami losujemy M próbek. Będą tam powtórzenia, średnio nawet 1/3, ale się tym nie przejmujemy.\n",
    "2. Wytrenuj klasyfikator bazowy (base classifier) na każdej z próbek boostrapowych.\n",
    "3. Stwórz klasyfikator złożony poprzez uśrednienie predykcji każdego z klasyfikatorów bazowych.\n",
    "\n",
    "<img src = https://upload.wikimedia.org/wikipedia/commons/thumb/c/c8/Ensemble_Bagging.svg/440px-Ensemble_Bagging.svg.png width = \"440\" height = \"248\" >\n",
    "\n",
    "Typowo klasyfikatory bazowe są bardzo proste, żeby można było szybko wytrenować ich dużą liczbę. Prawie zawsze używa się do tego drzew decyzyjnych. Dla klasyfikacji uśrednienie wyników polega na głosowaniu - dla nowej próbki każdy klasyfikator bazowy ją klasyfikuje, sumuje się głosy na każdą klasę i zwraca najbardziej popularną decyzję.\n",
    "\n",
    "Taki sposób ensemblingu zmniejsza wariancję klasyfikatora. Intuicyjnie, skoro coś uśredniamy, to siłą rzeczy będzie mniej rozrzucone, bo dużo ciężej będzie osiągnąć jakąś skrajność. Redukuje to też overfitting.\n",
    "\n",
    "**Lasy losowe (Random Forests)** to ulepszenie baggingu. Zaobserwowano, że pomimo losowania próbek boostrapowych, w baggingu poszczególne drzewa są do siebie bardzo podobne (są skorelowane), używają podobnych cech ze zbioru. My natomiast chcemy zróżnicowania, żeby mieć niski bias - redukcją wariancji zajmuje się uśrednianie. Dlatego używa się metody losowej podprzestrzeni (random subspace method) - przy każdym podziale drzewa losuje się tylko pewien podzbiór cech, których możemy użyć do tego podziału. Typowo jest to pierwiastek kwadratowy z ogólnej liczby cech.\n",
    "\n",
    "Zarówno bagging, jak i lasy losowe mają dodatkowo bardzo przyjemną własność - są mało czułe na hiperparametry, szczególnie na liczbę drzew. W praktyce wystarczy ustawić 500 czy 1000 drzew i będzie dobrze działać. Dalsze dostrajanie hiperparametrów może jeszcze trochę poprawić wyniki, ale nie tak bardzo, jak przy innych klasyfikatorach. Jest to zatem doskonały wybór domyślny, kiedy nie wiemy, jakiego klasyfikatora użyć.\n",
    "\n",
    "Dodatkowo jest to problem **embarassingly parallel** - drzewa można trenować w 100% równolegle, dzięki czemu jest to dodatkowo wydajna obliczeniowo metoda.\n",
    "\n",
    "Głębsze wytłumaczenie, z interaktywnymi wizualizacjami, można znaleźć [tutaj](https://mlu-explain.github.io/random-forest/). Dobrze tłumaczy je też [ta seria filmów](https://www.youtube.com/watch?v=J4Wdy0Wc_xQ&t=480s).\n",
    "\n",
    "**Zadanie 8 (0.5 punktu)**\n",
    "\n",
    "Wytrenuj klasyfikator Random Forest (klasa `RandomForestClassifier`). Użyj 500 drzew i entropii jako kryterium podziału. Pamiętaj, aby ustawić stały `random_state`. Dla przyspieszenia ustaw `n_jobs=-1` (użyje tylu procesów, ile masz dostępnych rdzeni procesora). Następnie sprawdź jego jakość na zbiorze testowym. Skomentuj wynik w odniesieniu do baseline'u."
   ]
  },
  {
   "cell_type": "code",
   "execution_count": null,
   "metadata": {
    "pycharm": {
     "name": "#%%\n"
    }
   },
   "outputs": [],
   "source": []
  },
  {
   "cell_type": "markdown",
   "metadata": {
    "pycharm": {
     "name": "#%% md\n"
    }
   },
   "source": [
    "// skomentuj tutaj"
   ]
  },
  {
   "cell_type": "markdown",
   "metadata": {
    "pycharm": {
     "name": "#%% md\n"
    }
   },
   "source": [
    "Wynik ten możemy jednak jeszcze ulepszyć!"
   ]
  },
  {
   "cell_type": "markdown",
   "metadata": {
    "pycharm": {
     "name": "#%% md\n"
    }
   },
   "source": [
    "## Oversampling, SMOTE"
   ]
  },
  {
   "cell_type": "markdown",
   "metadata": {
    "pycharm": {
     "name": "#%% md\n"
    }
   },
   "source": [
    "W przypadku zbiorów niezbalansowanych można dokonać **balansowania (balancing)** zbioru. Są tutaj 2 metody:\n",
    "- **undersampling**: usunięcie przykładów z klasy dominującej\n",
    "- **oversampling**: wygenerowanie dodatkowych przykładów z klasy mniejszościowej\n",
    "\n",
    "Undersampling działa dobrze, kiedy niezbalansowanie jest niewielkie, a zbiór jest duży (możemy sobie pozwolić na usunięcie jego części). Oversampling typowo daje lepsze wyniki, istnieją dla niego bardzo efektywne algorytmy. W przypadku bardzo dużego niezbalansowania można zrobić oba.\n",
    "\n",
    "Typowym algorytmem oversamplingu jest **SMOTE (Synthetic Minority Oversampling TEchnique)**. Działa on następująco:\n",
    "1. Idź po kolei po przykładach z klasy mniejszościowej\n",
    "2. Znajdź `k` najbliższych przykładów dla próbki, typowo `k=5`\n",
    "3. Wylosuj tylu sąsiadów, ile trzeba do oversamplingu, np. jeżeli chcemy zwiększyć klasę mniejszościową 3 razy (o 200%), to wylosuj 2 z 5 sąsiadów\n",
    "4. Dla każdego z wylosowanych sąsiadów wylosuj punkt na linii prostej między próbką a tym sąsiadem. Dodaj ten punkt jako nową próbkę do zbioru\n",
    "\n",
    "<img src = https://miro.medium.com/max/734/1*yRumRhn89acByodBz0H7oA.png >\n",
    "\n",
    "Taka technika generuje przykłady bardzo podobne do prawdziwych, więc nie zaburza zbioru, a jednocześnie pomaga klasyfikatorom, bo \"zagęszcza\" przestrzeń, w której znajduje się klasa pozytywna.\n",
    "\n",
    "Algorytm SMOTE, jego warianty i inne algorytmy dla problemów niezbalansowanych implementuje biblioteka Imbalanced-learn.\n",
    "\n",
    "**Zadanie 9 (1 punkt)**\n",
    "\n",
    "Użyj SMOTE do zbalansowania zbioru treningowego (nie używa się go na zbiorze testowym!) (klasa `SMOTE`). Wytrenuj drzewo decyzyjne oraz las losowy na zbalansowanym zbiorze, użyj tych samych argumentów co wcześniej. Pamiętaj o użyciu wszędzie stałego `random_state` i `n_jobs=-1`. Skomentuj wynik."
   ]
  },
  {
   "cell_type": "code",
   "execution_count": null,
   "metadata": {
    "pycharm": {
     "name": "#%%\n"
    }
   },
   "outputs": [],
   "source": []
  },
  {
   "cell_type": "markdown",
   "metadata": {
    "pycharm": {
     "name": "#%% md\n"
    }
   },
   "source": [
    "// skomentuj tutaj"
   ]
  },
  {
   "cell_type": "markdown",
   "metadata": {
    "pycharm": {
     "name": "#%% md\n"
    }
   },
   "source": [
    "W dalszej części laboratorium używaj zbioru po zastosowaniu SMOTE do treningu klasyfikatorów.s"
   ]
  },
  {
   "cell_type": "markdown",
   "metadata": {
    "pycharm": {
     "name": "#%% md\n"
    }
   },
   "source": [
    "## Dostrajanie (tuning) hiperparametrów"
   ]
  },
  {
   "cell_type": "markdown",
   "metadata": {
    "pycharm": {
     "name": "#%% md\n"
    }
   },
   "source": [
    "Lasy losowe są stosunkowo mało czułe na dobór hiperparametrów - i dobrze, bo mają ich dość dużo. Można zawsze jednak spróbować to zrobić, a w szczególności najważniejszy jest parametr `max_features`, oznaczający, ile cech losować przy każdym podziale drzewa. Typowo sprawdza się wartości z zakresu `[0.1, 0.5]`.\n",
    "\n",
    "W kwestii szybkości, kiedy dostrajamy hiperparametry, to mniej oczywiste jest, jakiego `n_jobs` użyć. Z jednej strony klasyfikator może być trenowany na wielu procesach, a z drugiej można trenować wiele klasyfikatorów na różnych zestawach hiperparametrów równolegle. Jeżeli nasz klasyfikator bardzo dobrze się uwspółbieżnia (jak Random Forest), to można dać mu nawet wszystkie rdzenie, a za to wypróbowywać kolejne zestawy hiperparametrów sekwencyjnie. Warto ustawić parametr `verbose` na 2 lub więcej, żeby dostać logi podczas długiego treningu i mierzyć czas wykonania. W praktyce ustawia się to metodą prób i błędów.\n",
    "\n",
    "**Zadanie 10 (1 punkt)**\n",
    "\n",
    "Wykorzystaj grid search z cross validation z 5 foldami, aby dobrać wartość `max_features` (klasa `GridSearchCV`). Wypróbuj wartości `[0.1, 0.2, 0.3, 0.4, 0.5]`\n",
    "\n",
    "Pamiętaj, żeby jako estymatora przekazanego do grid search'a użyć instancji Random Forest, która ma już ustawione `random_state` i `n_jobs`. Wybierz model o najwyższym AUROC - jako `scoring` przekaż \"roc_auc\".\n",
    "\n",
    "Skomentuj wynik. Czy warto było poświęcić czas i zasoby na tę procedurę?"
   ]
  },
  {
   "cell_type": "code",
   "execution_count": null,
   "metadata": {
    "pycharm": {
     "name": "#%%\n"
    }
   },
   "outputs": [],
   "source": []
  },
  {
   "cell_type": "markdown",
   "metadata": {
    "pycharm": {
     "name": "#%% md\n"
    }
   },
   "source": [
    "// skomentuj tutaj"
   ]
  },
  {
   "cell_type": "markdown",
   "metadata": {
    "pycharm": {
     "name": "#%% md\n"
    }
   },
   "source": [
    "W praktycznych zastosowaniach data scientist wedle własnego uznana, doświadczenia, dostępnego czasu i zasobów wybiera, czy dostrajać hiperparametry i w jak szerokim zakresie. Dla Random Forest na szczęście często może nie być znaczącej potrzeby, i za to go lubimy :)"
   ]
  },
  {
   "cell_type": "markdown",
   "metadata": {
    "pycharm": {
     "name": "#%% md\n"
    }
   },
   "source": [
    "**Zadanie 11 (0.25 punktu)**\n",
    "\n",
    "Sprawdź, jaka była optymalna wartość `max_features`. Jest to atrybut wytrenowanego `GridSearchCV`."
   ]
  },
  {
   "cell_type": "code",
   "execution_count": null,
   "metadata": {
    "pycharm": {
     "name": "#%%\n"
    }
   },
   "outputs": [],
   "source": []
  },
  {
   "cell_type": "markdown",
   "metadata": {
    "pycharm": {
     "name": "#%% md\n"
    }
   },
   "source": [
    "**Random Forest - podsumowanie**\n",
    "\n",
    "1. Model oparty o uczenie zespołowe\n",
    "2. Kluczowe elementy:\n",
    "   - bagging: uczenie wielu klasyfikatorów na próbkach boostrapowych\n",
    "   - metoda losowej podprzestrzeni: losujemy podzbiór cech do każdego podziału drzewa\n",
    "   - uśredniamy głosy klasyfikatorów\n",
    "3. Dość odporny na overfitting, zmniejsza wariancję błędu dzięki uśrednianiu\n",
    "4. Mało czuły na hiperparametry\n",
    "5. Przeciętnie bardzo dobre wyniki, doskonały wybór domyślny przy wybieraniu algorytmu klasyfikacji"
   ]
  },
  {
   "cell_type": "markdown",
   "metadata": {
    "pycharm": {
     "name": "#%% md\n"
    }
   },
   "source": [
    "## Boosting"
   ]
  },
  {
   "cell_type": "markdown",
   "metadata": {
    "pycharm": {
     "name": "#%% md\n"
    }
   },
   "source": [
    "Drugą bardzo ważną grupą algorytmów ensemblingu jest **boosting**, też oparty o drzewa decyzyjne. O ile Random Forest trenował wszystkie klasyfikatory bazowe równolegle i je uśredniał, o tyle boosting robi to sekwencyjnie. Drzewa te uczą się na całym zbiorze, nie na próbkach boostrapowych. Idea jest następująca: trenujemy drzewo decyzyjne, radzi sobie przeciętnie i popełnia błędy na częsci przykładów treningowych. Dokładamy kolejne, ale znające błędy swojego poprzednika, dzięki czemu może to uwzględnić i je poprawić. W związku z tym \"boostuje\" się dzięki wiedzy od poprzednika. Dokładamy kolejne drzewa zgodnie z tą samą zasadą.\n",
    "\n",
    "Jak uczyć się na błędach poprzednika? Jest to pewna **funkcja kosztu** (błędu), którą chcemy zminimalizować. Zakłada się jakąś jej konkretną postać, np. squared error dla regresji, albo logistic loss dla klasyfikacji. Później wykorzystuje się spadek wzdłuż gradientu (gradient descent), aby nauczyć się, w jakim kierunku powinny optymalizować kolejne drzewa, żeby zminimalizować błędy poprzednika. Jest to konkretnie **gradient boosting**, absolutnie najpopularniejsza forma boostingu, i jeden z najpopularniejszych i osiągających najlepsze wyniki algorytmów ML.\n",
    "\n",
    "Tyle co do intuicji. Ogólny algorytm gradient boostingu jest trochę bardziej skomplikowany. Bardzo dobrze i krok po kroku tłumaczy go [ta seria filmów na YT](https://www.youtube.com/watch?v=3CC4N4z3GJc). Szczególnie ważne implementacje gradient boostingu to **XGBoost (Extreme Gradient Boosting)** oraz **LightGBM (Light Gradient Boosting Machine)**. XGBoost był prawdziwym przełomem w ML, uzyskując doskonałe wyniki i bardzo dobrze się skalując - był wykorzystany w CERNie do wykrywania cząstki Higgsa w zbiorze z pomiarów LHC mającym 10 milionów próbek. Jego implementacja jest dość złożona, ale dobrze tłumaczy ją [inna seria filmików na YT](https://www.youtube.com/watch?v=OtD8wVaFm6E).\n",
    "\n",
    "![](xgboost.png)\n",
    "\n",
    "Obecnie najczęściej wykorzystuje się LightGBM. Został stworzony przez Microsoft na podstawie doświadczeń z XGBoostem. Został jeszcze bardziej ulepszony i przyspieszony, ale różnice są głównie implementacyjne. Różnice dobrze tłumaczy [ta prezentacja z konferencji PyData](https://www.youtube.com/watch?v=5CWwwtEM2TA) oraz [prezentacja Microsoftu](https://www.youtube.com/watch?v=5nKSMXBFhes). Dla zainteresowanych - [praktyczne aspekty LightGBM](https://www.kaggle.com/code/prashant111/lightgbm-classifier-in-python/notebook).\n",
    "\n",
    "**Zadanie 12 (0.75 punktu)**\n",
    "\n",
    "Wytrenuj klasyfikator LightGBM (klasa `LGBMClassifier`), sprawdź jego AUROC na zbiorze testowym. Pamiętaj o `random_state` i `n_jobs`. Skomentuj wynik w odniesieniu do wcześniejszych algorytmów."
   ]
  },
  {
   "cell_type": "code",
   "execution_count": null,
   "metadata": {
    "pycharm": {
     "name": "#%%\n"
    }
   },
   "outputs": [],
   "source": []
  },
  {
   "cell_type": "markdown",
   "metadata": {
    "pycharm": {
     "name": "#%% md\n"
    }
   },
   "source": [
    "// skomentuj tutaj"
   ]
  },
  {
   "cell_type": "markdown",
   "metadata": {
    "pycharm": {
     "name": "#%% md\n"
    }
   },
   "source": [
    "Boosting dzięki uczeniu na poprzednich drzewach redukuje nie tylko wariancję, ale też bias w błędzie, dzięki czemu może w wielu przypadkach osiągnąć lepsze rezultaty od lasu losowego. Do tego dzięki znakomitej implementacji LightGBM jest szybszy.\n",
    "\n",
    "Boosting jest jednak o wiele bardziej czuły na hiperparametry niż Random Forest. W szczególności bardzo łatwo go przeuczyć, a większość hiperparametrów, których jest dużo, wiąże się z regularyzacją modelu. To, że teraz poszło nam lepiej z domyślnymi, jest rzadkim przypadkiem.\n",
    "\n",
    "W związku z tym, że przestrzeń hiperparametrów jest duża, przeszukanie wszystkich kombinacji nie wchodzi w grę. Zamiast tego można wylosować zadaną liczbę zestawów hiperparametrów i tylko je sprawdzić - chociaż im więcej, tym lepsze wyniki powinniśmy dostać. Służy do tego `RandomizedSearchCV`. Co więcej, klasa ta potrafi próbkować rozkłady prawdopodobieństwa, a nie tylko sztywne listy wartości, co jest bardzo przydatne przy parametrach ciągłych.\n",
    "\n",
    "Hiperparametry LightGBMa są dobrze opisane w oficjalnej dokumentacji: [wersja krótsza](https://lightgbm.readthedocs.io/en/latest/pythonapi/lightgbm.LGBMClassifier.html#lightgbm.LGBMClassifier) i [wersja dłuższa](https://lightgbm.readthedocs.io/en/latest/Parameters.html). Jest ich dużo, więc nie będziemy ich tutaj omawiać. Jeżeli chodzi o ich dostrajanie w praktyce, to przydatny jest [oficjalny guide](https://lightgbm.readthedocs.io/en/latest/Parameters-Tuning.html) oraz dyskusje na Kaggle.\n",
    "\n",
    "**Zadanie 13 (1 punkt)**\n",
    "\n",
    "Zaimplementuj random search dla LightGBMa (klasa `RandomizedSearchCV`). Użyj tylu prób, na ile pozwalają twoje zasoby obliczeniowe, ale przynajmniej 30. Przeszukaj przestrzeń hiperparametrów:\n",
    "```\n",
    "param_grid = {\n",
    "    \"n_estimators\": [400, 500, 600],\n",
    "    \"learning_rate\": [0.05, 0.1, 0.2],\n",
    "    \"num_leaves\": [31, 48, 64],\n",
    "    \"colsample_bytree\": [0.8, 0.9, 1.0],\n",
    "    \"subsample\": [0.8, 0.9, 1.0],\n",
    "}\n",
    "```\n",
    "Na koniec wypisz znalezione optymalne hiperparametry.\n",
    "\n",
    "Pamiętaj o ustawieniu `random_state` i `n_jobs`, oraz ewentualnie `verbose` dla śledzenia przebiegu. Skomentuj wynik, szczególnie w odniesieniu do LightGBMa bez dostrajania hiperparametrów."
   ]
  },
  {
   "cell_type": "code",
   "execution_count": null,
   "metadata": {
    "pycharm": {
     "name": "#%%\n"
    }
   },
   "outputs": [],
   "source": []
  },
  {
   "cell_type": "markdown",
   "metadata": {
    "pycharm": {
     "name": "#%% md\n"
    }
   },
   "source": [
    "// skomentuj tutaj"
   ]
  },
  {
   "cell_type": "markdown",
   "metadata": {
    "pycharm": {
     "name": "#%% md\n"
    }
   },
   "source": [
    "Powyżej sprawdziliśmy tylko jedną metrykę. Może jednak nowe hiperparametry wpłynęły też na inne metryki, być może nawet w bardziej znaczący sposób?\n",
    "\n",
    "**Zadanie 14 (0.75 punktu)**\n",
    "\n",
    "Wypisz raporty z klasyfikacji (funkcja `classification_report`), dla modelu LightGBM bez i z dostrajaniem hiperparametrów. Skomentuj różnicę precyzji (precision) i czułości (recall) między tymi modelami. Czy jest to pożądane zjawisko?"
   ]
  },
  {
   "cell_type": "code",
   "execution_count": null,
   "metadata": {
    "pycharm": {
     "name": "#%%\n"
    }
   },
   "outputs": [],
   "source": []
  },
  {
   "cell_type": "markdown",
   "metadata": {
    "pycharm": {
     "name": "#%% md\n"
    }
   },
   "source": [
    "// skomentuj tutaj"
   ]
  },
  {
   "cell_type": "markdown",
   "metadata": {
    "pycharm": {
     "name": "#%% md\n"
    }
   },
   "source": [
    "**Boosting - podsumowanie**\n",
    "\n",
    "1. Model oparty o uczenie zespołowe\n",
    "2. Kolejne modele są dodawane sekwencyjnie i uczą się na błędach poprzedników\n",
    "3. Nauka typowo jest oparta o minimalizację funkcji kosztu (błędu), z użyciem spadku wzdłuż gradientu\n",
    "4. Wiodący model klasyfikacji dla danych tabelarycznych, z 2 głównymi implementacjami: XGBoost i LightGBM\n",
    "5. Liczne hiperparametry, wymagające odpowiednich metod dostrajania"
   ]
  },
  {
   "cell_type": "markdown",
   "metadata": {
    "pycharm": {
     "name": "#%% md\n"
    }
   },
   "source": [
    "## Wyjaśnialna AI"
   ]
  },
  {
   "cell_type": "markdown",
   "metadata": {
    "pycharm": {
     "name": "#%% md\n"
    }
   },
   "source": [
    "W ostatnich latach zaczęto zwracać coraz większą uwagę na wpływ sztucznej inteligencji na społeczeństwo, a na niektórych czołowych konferencjach ML nawet obowiązkowa jest sekcja \"Social impact\" w artykułach naukowych. Typowo im lepszy model, tym bardziej złożony, a najpopularniejsze modele boostingu są z natury skomplikowane. Kiedy mają podejmować krytyczne decyzje, to musimy wiedzieć, czemu predykcja jest taka, a nie inna. Jest to poddziedzina uczenia maszynowego - **wyjaśnialna AI (explainable AI, XAI)**.\n",
    "\n",
    "W szczególności interesująca jest tutaj **lokalna interpretowalność (local interpretability)** - zrozumienie, czemu dla konkretnej próbki model klasyfikuje ją tak, a nie inaczej. Chcemy uzyskać wiedzę, jakie wartości cech tej próbki miały najmniejszy / największy wpływ na taką decyzję. Dodatkowo trzeba wziąć pod uwagę interakcje między cechami, oraz samą charakterystykę modelu i to, jak wykorzystuje on te cechy. Jak widać, problem jest trudny.\n",
    "\n",
    "Najpopularniejszym podejściem jest tutaj **SHAP (SHapley Additive exPlanations)**, metoda oparta o kooperatywną teorię gier. Traktuje się cechy modelu jak zbiór graczy, podzielonych na dwie drużyny (koalicje): jedna chce zaklasyfikować próbkę jako negatywną, a druga jako pozytywną. O ostatecznej decyzji decyduje model, który wykorzystuje te wartości cech. Powstaje pytanie - w jakim stopniu wartości cech przyczyniły się do wyniku swojej drużyny? Można to obliczyć jako wartości Shapleya (Shapley values), które dla modeli ML oblicza algorytm SHAP. Ma on bardzo znaczące, udowodnione matematycznie zalety, a dodatkowo posiada wyjątkowo efektywną implementację dla modeli drzewiastych oraz dobre wizualizacje.\n",
    "\n",
    "Bardzo intuicyjnie, na prostym przykładzie, SHAPa wyjaśnia [pierwsza część tego artykułu](https://iancovert.com/blog/understanding-shap-sage/). Dobrze i dość szczegółówo SHAPa wyjaśnia jego autor [w tym filmie](https://www.youtube.com/watch?v=-taOhqkiuIo).\n",
    "\n",
    "`TreeExplainer` służy do interpretacji modeli drzewiastych. Dostaje on, tak jak inne explainery SHAPa: model, dane treningowe, oraz rodzaj problemu (model output). W uproszczeniu jest to `\"raw\"` dla regresji albo `\"probability\"` dla klasyfikacji.\n",
    "\n",
    "**Wypełnij w komórce poniżej odpowiednie zmienne**"
   ]
  },
  {
   "cell_type": "code",
   "execution_count": null,
   "metadata": {
    "pycharm": {
     "name": "#%%\n"
    }
   },
   "outputs": [],
   "source": [
    "import shap\n",
    "\n",
    "shap.initjs()\n",
    "\n",
    "feature_names = [\"net profit / total assets\", \"total liabilities / total assets\", \"working capital / total assets\", \"current assets / short-term liabilities\", \"[(cash + short-term securities + receivables - short-term liabilities) / (operating expenses - depreciation)] * 365\", \"retained earnings / total assets\", \"EBIT / total assets\", \"book value of equity / total liabilities\", \"sales / total assets\", \"equity / total assets\", \"(gross profit + extraordinary items + financial expenses) / total assets\", \"gross profit / short-term liabilities\", \"(gross profit + depreciation) / sales\", \"(gross profit + interest) / total assets\", \"(total liabilities * 365) / (gross profit + depreciation)\", \"(gross profit + depreciation) / total liabilities\", \"total assets / total liabilities\", \"gross profit / total assets\", \"gross profit / sales\", \"(inventory * 365) / sales\", \"sales (n) / sales (n-1)\", \"profit on operating activities / total assets\", \"net profit / sales\", \"gross profit (in 3 years) / total assets\", \"(equity - share capital) / total assets\", \"(net profit + depreciation) / total liabilities\", \"profit on operating activities / financial expenses\", \"working capital / fixed assets\", \"logarithm of total assets\", \"(total liabilities - cash) / sales\", \"(gross profit + interest) / sales\", \"(current liabilities * 365) / cost of products sold\", \"operating expenses / short-term liabilities\", \"operating expenses / total liabilities\", \"profit on sales / total assets\", \"total sales / total assets\", \"constant capital / total assets\", \"profit on sales / sales\", \"(current assets - inventory - receivables) / short-term liabilities\", \"total liabilities / ((profit on operating activities + depreciation) * (12/365))\", \"profit on operating activities / sales\", \"rotation receivables + inventory turnover in days\", \"(receivables * 365) / sales\", \"net profit / inventory\", \"(current assets - inventory) / short-term liabilities\", \"(inventory * 365) / cost of products sold\", \"EBITDA (profit on operating activities - depreciation) / total assets\", \"EBITDA (profit on operating activities - depreciation) / sales\", \"current assets / total liabilities\", \"short-term liabilities / total assets\", \"(short-term liabilities * 365) / cost of products sold)\", \"equity / fixed assets\", \"constant capital / fixed assets\", \"working capital\", \"(sales - cost of products sold) / sales\", \"(current assets - inventory - short-term liabilities) / (sales - gross profit - depreciation)\", \"total costs / total sales\", \"long-term liabilities / equity\", \"sales / inventory\", \"sales / receivables\", \"(short-term liabilities * 365) / sales\", \"sales / short-term liabilities\", \"sales / fixed assets\"]\n",
    "\n",
    "explainer = shap.TreeExplainer(\n",
    "    model=...,  # variable with trained, tuned LightGBM model\n",
    "    data=...,   # variable with training data X, after resampling with SMOTE\n",
    "    model_output=\"probability\"\n",
    ")"
   ]
  },
  {
   "cell_type": "markdown",
   "metadata": {
    "pycharm": {
     "name": "#%% md\n"
    }
   },
   "source": [
    "Teraz obliczymy wartości Shapleya dla wybranego przykładu ze zbioru testowego i narysujemy force plot. W tej wizualizacji bezpośrednio pokazujemy wielkość wpływu poszczególnych cech oraz ich wartości, a także to, w którą stronę pchają predykcję."
   ]
  },
  {
   "cell_type": "code",
   "execution_count": null,
   "metadata": {
    "pycharm": {
     "name": "#%%\n"
    }
   },
   "outputs": [],
   "source": [
    "shap_values = explainer.shap_values(X_test[0])\n",
    "\n",
    "shap.force_plot(\n",
    "    base_value=explainer.expected_value,\n",
    "    shap_values=shap_values,\n",
    "    features=X_test[0],\n",
    "    feature_names=feature_names\n",
    ")"
   ]
  },
  {
   "cell_type": "markdown",
   "metadata": {
    "pycharm": {
     "name": "#%% md\n"
    }
   },
   "source": [
    "**Zadanie 15 (0.5 punktu)**\n",
    "\n",
    "Dokonaj wyjaśnienia kolejnych 2 próbek z klasy pozytywnej i 2 z klasy negatywnej. Czy jakieś cechy są wyraźnie dominujące?"
   ]
  },
  {
   "cell_type": "code",
   "execution_count": null,
   "metadata": {
    "pycharm": {
     "name": "#%%\n"
    }
   },
   "outputs": [],
   "source": []
  },
  {
   "cell_type": "markdown",
   "metadata": {
    "pycharm": {
     "name": "#%% md\n"
    }
   },
   "source": [
    "SHAP pozwala też na obliczenie **ważności cech (feature importances)**, czyli ogólnej wagi poszczególnych cech w całym zbiorze. Robi się to bardzo prosto - po prostu uśrednia się wartość bezwzględną Shapley value dla każdej cechy i przykładu ze zbioru treningowego.\n",
    "\n",
    "Nasz zbiór po resamplingu jest dość duży, więc może to chwilę zająć. Jeżeli będzie trwało za długo, to użyj np. połowy danych."
   ]
  },
  {
   "cell_type": "code",
   "execution_count": null,
   "metadata": {
    "pycharm": {
     "name": "#%%\n"
    }
   },
   "outputs": [],
   "source": [
    "shap.summary_plot(\n",
    "    shap_values=explainer.shap_values(X_train_resampled),\n",
    "    features=X_train_resampled,\n",
    "    feature_names=feature_names,\n",
    "    max_display=X.shape[1],\n",
    "    plot_type=\"bar\",\n",
    ")"
   ]
  },
  {
   "cell_type": "markdown",
   "metadata": {
    "pycharm": {
     "name": "#%% md\n"
    }
   },
   "source": [
    "Taka informacja jest cenna, bo dzięki temu lepiej wiemy, co robi model. Jest to ważne z kilku powodów:\n",
    "1. Wymogi prawne - wdrażanie algorytmów w ekonomii, prawie etc. ma coraz częściej konkretne wymagania prawne co do wyjaśnialności predykcji\n",
    "2. Dodatkowa wiedza dla użytkowników - często dodatkowe obserwacje co do próbek są ciekawe same w sobie i dają wiedzę użytkownikowi (często posiadającemu specjalistyczną wiedzę z dziedziny), czasem nawet bardziej niż sam model predykcyjny\n",
    "3. Analiza modelu - dodatkowa wiedza o wewnętrznym działaniu algorytmu pozwala go lepiej zrozumieć i np. dokonać lepszego wyboru cech"
   ]
  },
  {
   "cell_type": "markdown",
   "metadata": {
    "pycharm": {
     "name": "#%% md\n"
    }
   },
   "source": [
    "**Wyjaśnialna AI - podsumowanie**\n",
    "\n",
    "1. Problem zrozumienia, jak wnioskuje model i czemu podejmuje dane decyzje\n",
    "2. Ważne zarówno z perspektywy data scientist'a, jak i użytkowników systemu\n",
    "3. Można wyjaśniać model lokalnie (konkretne predykcje) lub globalnie (wpływ poszczególnych cech)\n",
    "4. Wiodąca metoda interpretacji to SHAP, oparta o kooperacyjną teorię gier"
   ]
  },
  {
   "cell_type": "markdown",
   "metadata": {
    "pycharm": {
     "name": "#%% md\n"
    }
   },
   "source": [
    "## Pytania kontrolne (1.5 punktu)"
   ]
  },
  {
   "cell_type": "markdown",
   "metadata": {
    "pycharm": {
     "name": "#%% md\n"
    }
   },
   "source": [
    "1. Podaj inny przykład sytuacji klasyfikacji niezbalansowanej.\n",
    "\n",
    "\n",
    "2. Czy klasyfikacja niezbalansowana tyczy się tylko klasyfikacji binarnej?\n",
    "\n",
    "\n",
    "3. Załóżmy, że mamy stosunkowo duży zbiór danych. Co zrobiłbyś / zrobiłabyś z cechą, która ma:\n",
    "\n",
    "  - a) 1% wartości brakujących, pozostałe cechy mają wszystkie wartości albo też ok. 1% braków\n",
    "\n",
    "  - b) 10% wartości brakujących i ma rozkład normalny\n",
    "\n",
    "  - c) 10% wartości brakujących i ma rozkład skośny\n",
    "\n",
    "  - d) 50% wartości brakujących\n",
    "\n",
    "\n",
    "4. Czy twoim zdaniem w regresji też możemy mieć problem niezbalansowania, tzn. regresję niezbalansowaną?\n",
    "\n",
    "\n",
    "5. Czy masz pomysł, jak można by sobie poradzić z wartością brakującą w zmiennej kategorycznej (dyskretna, skończona, bez uporządkowania)?\n",
    "\n",
    "\n",
    "6. Drzewo decyzyjne o mniejszej maksymalnej głębokości jest słabiej, czy silniej zregularyzowane?\n",
    "\n",
    "\n",
    "7. Podaj 3 różnice między baggingiem (Random Forest) a boostingiem.\n",
    "\n",
    "\n",
    "8. Jak można by użyć informacji o globalnej ważności cech?\n",
    "\n"
   ]
  },
  {
   "cell_type": "markdown",
   "metadata": {
    "pycharm": {
     "name": "#%% md\n"
    }
   },
   "source": [
    "## Zadanie dla chętnych\n",
    "\n",
    "Dokonaj selekcji cech, usuwając 20% najsłabszych cech. Może się tu przydać klasa `SelectPercentile`. Czy Random Forest i LightGBM (bez dostrajania hiperparametrów, dla uproszczenia) wytrenowane bez najsłabszych cech dają lepszy wynik (AUROC lub innej metryki)?\n",
    "\n",
    "Wykorzystaj po 1 algorytmie z 3 grup algorytmów selekcji cech:\n",
    "1. Filter methods - mierzymy ważność każdej cechy niezależnie, za pomocą pewnej miary (typowo ze statystyki lub teorii informacji), a potem odrzucamy (filtrujemy) te o najniższej ważności. Są to np. `chi2` i `mutual_info_classif` z pakietu `sklearn.feature_selection`.\n",
    "2. Embedded methods - klasyfikator sam zwraca ważność cech, jest jego wbudowaną cechą (stąd nazwa). Jest to w szczególności właściwość wszystkich zespołowych klasyfikatorów drzewiastych. Mają po wytrenowaniu atrybut `feature_importances_`.\n",
    "2. Wrapper methods - algorytmy wykorzystujące w środku używany model (stąd nazwa), mierzące ważność cech za pomocą ich wpływu na jakość klasyfikatora. Jest to np. recursive feature elimination (klasa `RFE`). W tym algorytmie trenujemy klasyfikator na wszystkich cechach, wyrzucamy najsłabszą, trenujemy znowu i tak dalej.\n",
    "\n",
    "Typowo metody filter są najszybsze, ale dają najsłabszy wynik, natomiast metody wrapper są najwolniejsze i dają najlepszy wynik. Metody embedded są gdzieś pośrodku.\n",
    "\n",
    "Dla zainteresowanych, inne znane i bardzo dobre algorytmy:\n",
    "- Relief (filter method) oraz warianty, szczególnie ReliefF, SURF i MultiSURF (biblioteka `ReBATE`): [Wikipedia](https://en.wikipedia.org/wiki/Relief_(feature_selection)), [artykuł \"Benchmarking Relief-Based Feature Selection Methods\"](https://www.researchgate.net/publication/321307194_Benchmarking_Relief-Based_Feature_Selection_Methods)\n",
    "- Boruta (wrapper method), stworzony na Uniwersytecie Warszawskim, łączący Random Forest oraz testy statystyczne (biblioteka `boruta_py`): [link 1](https://towardsdatascience.com/boruta-explained-the-way-i-wish-someone-explained-it-to-me-4489d70e154a), [link 2](https://danielhomola.com/feature%20selection/phd/borutapy-an-all-relevant-feature-selection-method/)"
   ]
  },
  {
   "cell_type": "code",
   "execution_count": null,
   "metadata": {
    "pycharm": {
     "name": "#%%\n"
    }
   },
   "outputs": [],
   "source": []
  }
 ],
 "metadata": {
  "kernelspec": {
   "name": "python3",
   "language": "python",
   "display_name": "Python 3 (ipykernel)"
  },
  "language_info": {
   "codemirror_mode": {
    "name": "ipython",
    "version": 3
   },
   "file_extension": ".py",
   "mimetype": "text/x-python",
   "name": "python",
   "nbconvert_exporter": "python",
   "pygments_lexer": "ipython3",
   "version": "3.9.13"
  }
 },
 "nbformat": 4,
 "nbformat_minor": 1
}
